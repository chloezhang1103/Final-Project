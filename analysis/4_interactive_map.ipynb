{
 "cells": [
  {
   "cell_type": "markdown",
   "id": "0e6ba9ab-6d2c-4e71-b3d7-6271d9695f10",
   "metadata": {},
   "source": [
    "* # Interactive Map"
   ]
  },
  {
   "cell_type": "code",
   "execution_count": 6,
   "id": "bcb1b353-3784-40ef-8894-c2d81e1c2fb2",
   "metadata": {},
   "outputs": [
    {
     "name": "stdout",
     "output_type": "stream",
     "text": [
      "Requirement already satisfied: geopandas in /opt/anaconda3/lib/python3.12/site-packages (0.14.4)\n",
      "Requirement already satisfied: folium in /opt/anaconda3/lib/python3.12/site-packages (0.18.0)\n",
      "Requirement already satisfied: shapely in /opt/anaconda3/lib/python3.12/site-packages (2.0.6)\n",
      "Requirement already satisfied: matplotlib in /opt/anaconda3/lib/python3.12/site-packages (3.8.4)\n",
      "Requirement already satisfied: fiona>=1.8.21 in /opt/anaconda3/lib/python3.12/site-packages (from geopandas) (1.10.1)\n",
      "Requirement already satisfied: numpy>=1.22 in /opt/anaconda3/lib/python3.12/site-packages (from geopandas) (1.26.4)\n",
      "Requirement already satisfied: packaging in /opt/anaconda3/lib/python3.12/site-packages (from geopandas) (23.2)\n",
      "Requirement already satisfied: pandas>=1.4.0 in /opt/anaconda3/lib/python3.12/site-packages (from geopandas) (2.2.2)\n",
      "Requirement already satisfied: pyproj>=3.3.0 in /opt/anaconda3/lib/python3.12/site-packages (from geopandas) (3.7.0)\n",
      "Requirement already satisfied: branca>=0.6.0 in /opt/anaconda3/lib/python3.12/site-packages (from folium) (0.8.0)\n",
      "Requirement already satisfied: jinja2>=2.9 in /opt/anaconda3/lib/python3.12/site-packages (from folium) (3.1.4)\n",
      "Requirement already satisfied: requests in /opt/anaconda3/lib/python3.12/site-packages (from folium) (2.32.2)\n",
      "Requirement already satisfied: xyzservices in /opt/anaconda3/lib/python3.12/site-packages (from folium) (2022.9.0)\n",
      "Requirement already satisfied: contourpy>=1.0.1 in /opt/anaconda3/lib/python3.12/site-packages (from matplotlib) (1.2.0)\n",
      "Requirement already satisfied: cycler>=0.10 in /opt/anaconda3/lib/python3.12/site-packages (from matplotlib) (0.11.0)\n",
      "Requirement already satisfied: fonttools>=4.22.0 in /opt/anaconda3/lib/python3.12/site-packages (from matplotlib) (4.51.0)\n",
      "Requirement already satisfied: kiwisolver>=1.3.1 in /opt/anaconda3/lib/python3.12/site-packages (from matplotlib) (1.4.4)\n",
      "Requirement already satisfied: pillow>=8 in /opt/anaconda3/lib/python3.12/site-packages (from matplotlib) (10.3.0)\n",
      "Requirement already satisfied: pyparsing>=2.3.1 in /opt/anaconda3/lib/python3.12/site-packages (from matplotlib) (3.0.9)\n",
      "Requirement already satisfied: python-dateutil>=2.7 in /opt/anaconda3/lib/python3.12/site-packages (from matplotlib) (2.9.0.post0)\n",
      "Requirement already satisfied: attrs>=19.2.0 in /opt/anaconda3/lib/python3.12/site-packages (from fiona>=1.8.21->geopandas) (24.2.0)\n",
      "Requirement already satisfied: certifi in /opt/anaconda3/lib/python3.12/site-packages (from fiona>=1.8.21->geopandas) (2024.8.30)\n",
      "Requirement already satisfied: click~=8.0 in /opt/anaconda3/lib/python3.12/site-packages (from fiona>=1.8.21->geopandas) (8.1.7)\n",
      "Requirement already satisfied: click-plugins>=1.0 in /opt/anaconda3/lib/python3.12/site-packages (from fiona>=1.8.21->geopandas) (1.1.1)\n",
      "Requirement already satisfied: cligj>=0.5 in /opt/anaconda3/lib/python3.12/site-packages (from fiona>=1.8.21->geopandas) (0.7.2)\n",
      "Requirement already satisfied: MarkupSafe>=2.0 in /opt/anaconda3/lib/python3.12/site-packages (from jinja2>=2.9->folium) (2.1.3)\n",
      "Requirement already satisfied: pytz>=2020.1 in /opt/anaconda3/lib/python3.12/site-packages (from pandas>=1.4.0->geopandas) (2024.1)\n",
      "Requirement already satisfied: tzdata>=2022.7 in /opt/anaconda3/lib/python3.12/site-packages (from pandas>=1.4.0->geopandas) (2023.3)\n",
      "Requirement already satisfied: six>=1.5 in /opt/anaconda3/lib/python3.12/site-packages (from python-dateutil>=2.7->matplotlib) (1.16.0)\n",
      "Requirement already satisfied: charset-normalizer<4,>=2 in /opt/anaconda3/lib/python3.12/site-packages (from requests->folium) (2.0.4)\n",
      "Requirement already satisfied: idna<4,>=2.5 in /opt/anaconda3/lib/python3.12/site-packages (from requests->folium) (3.7)\n",
      "Requirement already satisfied: urllib3<3,>=1.21.1 in /opt/anaconda3/lib/python3.12/site-packages (from requests->folium) (2.2.2)\n"
     ]
    }
   ],
   "source": [
    "!pip install geopandas folium shapely matplotlib"
   ]
  },
  {
   "cell_type": "code",
   "execution_count": 8,
   "id": "3f2ebb5f-800f-4e82-869e-958924e5c54f",
   "metadata": {
    "scrolled": true
   },
   "outputs": [
    {
     "ename": "NameError",
     "evalue": "name 'gdf' is not defined",
     "output_type": "error",
     "traceback": [
      "\u001b[0;31m---------------------------------------------------------------------------\u001b[0m",
      "\u001b[0;31mNameError\u001b[0m                                 Traceback (most recent call last)",
      "Cell \u001b[0;32mIn[8], line 11\u001b[0m\n\u001b[1;32m      8\u001b[0m m \u001b[38;5;241m=\u001b[39m folium\u001b[38;5;241m.\u001b[39mMap(location\u001b[38;5;241m=\u001b[39m[center_lat, center_lon], zoom_start\u001b[38;5;241m=\u001b[39m\u001b[38;5;241m12\u001b[39m, tiles\u001b[38;5;241m=\u001b[39m\u001b[38;5;124m\"\u001b[39m\u001b[38;5;124mCartoDB Positron\u001b[39m\u001b[38;5;124m\"\u001b[39m)\n\u001b[1;32m     10\u001b[0m \u001b[38;5;66;03m# 添加点数据\u001b[39;00m\n\u001b[0;32m---> 11\u001b[0m \u001b[38;5;28;01mfor\u001b[39;00m idx, row \u001b[38;5;129;01min\u001b[39;00m gdf\u001b[38;5;241m.\u001b[39miterrows():\n\u001b[1;32m     12\u001b[0m     \u001b[38;5;66;03m# 数据格式处理\u001b[39;00m\n\u001b[1;32m     13\u001b[0m     romantic_distance \u001b[38;5;241m=\u001b[39m \u001b[38;5;28mround\u001b[39m(row[\u001b[38;5;124m'\u001b[39m\u001b[38;5;124mnearest_romantic_distance\u001b[39m\u001b[38;5;124m'\u001b[39m], \u001b[38;5;241m2\u001b[39m)\n\u001b[1;32m     14\u001b[0m     noise_count \u001b[38;5;241m=\u001b[39m \u001b[38;5;28mint\u001b[39m(row[\u001b[38;5;124m'\u001b[39m\u001b[38;5;124mnoise_count\u001b[39m\u001b[38;5;124m'\u001b[39m])\n",
      "\u001b[0;31mNameError\u001b[0m: name 'gdf' is not defined"
     ]
    }
   ],
   "source": [
    "import folium\n",
    "\n",
    "# 计算数据中心点\n",
    "center_lat = (40.542868 + 40.8635587) / 2\n",
    "center_lon = (-74.142427 + -73.7846917) / 2\n",
    "\n",
    "# 创建地图\n",
    "m = folium.Map(location=[center_lat, center_lon], zoom_start=12, tiles=\"CartoDB Positron\")\n",
    "\n",
    "# 添加点数据\n",
    "for idx, row in gdf.iterrows():\n",
    "    # 数据格式处理\n",
    "    romantic_distance = round(row['nearest_romantic_distance'], 2)\n",
    "    noise_count = int(row['noise_count'])\n",
    "    parking_distance = round(row['nearest_parking_distance'], 2)\n",
    "    \n",
    "    folium.Marker(\n",
    "        location=[row.geometry.y, row.geometry.x],\n",
    "        popup=folium.Popup(f\"\"\"\n",
    "            <b style=\"color:orange; font-size:14px;\">{row['title']}</b><br>\n",
    "            <b>Category:</b> {row['categoryName']}<br>\n",
    "            <b>Address:</b> {row['address']}<br>\n",
    "            <b>Parking Distance:</b> {parking_distance} m<br>\n",
    "            <b>Bus Stops (500m):</b> {row['bus_count_500m']}<br>\n",
    "            <b>Subways (500m):</b> {row['subway_count_500m']}<br>\n",
    "            <b>Transport Score:</b> {row['public_transport_score']}<br>\n",
    "            <b>Romantic Spot Distance:</b> {romantic_distance} m<br>\n",
    "            <b>Noise Count:</b> {noise_count}<br>\n",
    "            <b>Median Income:</b> ${row['Median_Household_Income']}<br>\n",
    "            <b>Price Rank:</b> {row['price_cleaned']}\n",
    "            \"\"\", max_width=300),\n",
    "        icon=folium.Icon(color=\"red\", icon=\"cutlery\", prefix=\"fa\")  # 更换为餐厅的 cutlery 图标\n",
    "    ).add_to(m)\n",
    "\n",
    "# 显示地图\n",
    "m\n"
   ]
  },
  {
   "cell_type": "code",
   "execution_count": 12,
   "id": "63d5de10-4bd1-4470-ad05-66c34978661b",
   "metadata": {},
   "outputs": [],
   "source": [
    "output_file = \"restaurant_map.html\"\n",
    "m.save(output_file)"
   ]
  },
  {
   "cell_type": "code",
   "execution_count": null,
   "id": "3aa2d744-0004-43ef-86f3-1c0ee0ec9092",
   "metadata": {},
   "outputs": [],
   "source": []
  }
 ],
 "metadata": {
  "kernelspec": {
   "display_name": "Python 3 (ipykernel)",
   "language": "python",
   "name": "python3"
  },
  "language_info": {
   "codemirror_mode": {
    "name": "ipython",
    "version": 3
   },
   "file_extension": ".py",
   "mimetype": "text/x-python",
   "name": "python",
   "nbconvert_exporter": "python",
   "pygments_lexer": "ipython3",
   "version": "3.12.4"
  }
 },
 "nbformat": 4,
 "nbformat_minor": 5
}
