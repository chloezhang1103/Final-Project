{
 "cells": [
  {
   "cell_type": "markdown",
   "id": "19be6ebb-e24c-4f42-8acd-da7aa33c58d1",
   "metadata": {},
   "source": [
    "# Dating Score Evalution\n",
    "Right now, we are going to rank the restaurants by dating scores. To calculate the \"Dating Score\" for each restaurant using the metrics totalScore, reviewsCount, and the keyword/adjective counts extracted from the reviews.\n",
    "## Process the Review Data\n",
    "First, we need to clean the review data and extract the key words we need for calculating the dating score."
   ]
  },
  {
   "cell_type": "code",
   "execution_count": 1,
   "id": "ccede2b2-119c-4dd3-bc04-ab494e50b4c7",
   "metadata": {},
   "outputs": [
    {
     "name": "stdout",
     "output_type": "stream",
     "text": [
      "Requirement already satisfied: requests in /Users/luoxiaoyi/miniforge3/lib/python3.10/site-packages (2.31.0)\n",
      "Requirement already satisfied: charset-normalizer<4,>=2 in /Users/luoxiaoyi/miniforge3/lib/python3.10/site-packages (from requests) (3.3.2)\n",
      "Requirement already satisfied: idna<4,>=2.5 in /Users/luoxiaoyi/miniforge3/lib/python3.10/site-packages (from requests) (3.6)\n",
      "Requirement already satisfied: urllib3<3,>=1.21.1 in /Users/luoxiaoyi/miniforge3/lib/python3.10/site-packages (from requests) (2.2.1)\n",
      "Requirement already satisfied: certifi>=2017.4.17 in /Users/luoxiaoyi/miniforge3/lib/python3.10/site-packages (from requests) (2024.8.30)\n"
     ]
    }
   ],
   "source": [
    "!pip install requests"
   ]
  },
  {
   "cell_type": "code",
   "execution_count": 2,
   "id": "89522192-228d-49a1-b9aa-564c82725a8e",
   "metadata": {},
   "outputs": [
    {
     "name": "stdout",
     "output_type": "stream",
     "text": [
      "Intel MKL WARNING: Support of Intel(R) Streaming SIMD Extensions 4.2 (Intel(R) SSE4.2) enabled only processors has been deprecated. Intel oneAPI Math Kernel Library 2025.0 will require Intel(R) Advanced Vector Extensions (Intel(R) AVX) instructions.\n",
      "Intel MKL WARNING: Support of Intel(R) Streaming SIMD Extensions 4.2 (Intel(R) SSE4.2) enabled only processors has been deprecated. Intel oneAPI Math Kernel Library 2025.0 will require Intel(R) Advanced Vector Extensions (Intel(R) AVX) instructions.\n",
      "Requirement already satisfied: cenpy in /Users/luoxiaoyi/miniforge3/lib/python3.10/site-packages (1.0.1)\n",
      "Requirement already satisfied: pandas in /Users/luoxiaoyi/miniforge3/lib/python3.10/site-packages (from cenpy) (2.2.2)\n",
      "Requirement already satisfied: geopandas in /Users/luoxiaoyi/miniforge3/lib/python3.10/site-packages (from cenpy) (0.14.4)\n",
      "Requirement already satisfied: requests in /Users/luoxiaoyi/miniforge3/lib/python3.10/site-packages (from cenpy) (2.31.0)\n",
      "Requirement already satisfied: rtree in /Users/luoxiaoyi/miniforge3/lib/python3.10/site-packages (from cenpy) (1.3.0)\n",
      "Requirement already satisfied: numpy in /Users/luoxiaoyi/miniforge3/lib/python3.10/site-packages (from cenpy) (1.26.4)\n",
      "Requirement already satisfied: six in /Users/luoxiaoyi/miniforge3/lib/python3.10/site-packages (from cenpy) (1.16.0)\n",
      "Requirement already satisfied: fuzzywuzzy in /Users/luoxiaoyi/miniforge3/lib/python3.10/site-packages (from cenpy) (0.18.0)\n",
      "Requirement already satisfied: libpysal in /Users/luoxiaoyi/miniforge3/lib/python3.10/site-packages (from cenpy) (4.12.1)\n",
      "Requirement already satisfied: fiona>=1.8.21 in /Users/luoxiaoyi/miniforge3/lib/python3.10/site-packages (from geopandas->cenpy) (1.10.1)\n",
      "Requirement already satisfied: packaging in /Users/luoxiaoyi/miniforge3/lib/python3.10/site-packages (from geopandas->cenpy) (24.0)\n",
      "Requirement already satisfied: pyproj>=3.3.0 in /Users/luoxiaoyi/miniforge3/lib/python3.10/site-packages (from geopandas->cenpy) (3.6.1)\n",
      "Requirement already satisfied: shapely>=1.8.0 in /Users/luoxiaoyi/miniforge3/lib/python3.10/site-packages (from geopandas->cenpy) (2.0.6)\n",
      "Requirement already satisfied: python-dateutil>=2.8.2 in /Users/luoxiaoyi/miniforge3/lib/python3.10/site-packages (from pandas->cenpy) (2.9.0)\n",
      "Requirement already satisfied: pytz>=2020.1 in /Users/luoxiaoyi/miniforge3/lib/python3.10/site-packages (from pandas->cenpy) (2024.1)\n",
      "Requirement already satisfied: tzdata>=2022.7 in /Users/luoxiaoyi/miniforge3/lib/python3.10/site-packages (from pandas->cenpy) (2024.1)\n",
      "Requirement already satisfied: beautifulsoup4>=4.10 in /Users/luoxiaoyi/miniforge3/lib/python3.10/site-packages (from libpysal->cenpy) (4.12.3)\n",
      "Requirement already satisfied: platformdirs>=2.0.2 in /Users/luoxiaoyi/miniforge3/lib/python3.10/site-packages (from libpysal->cenpy) (4.2.0)\n",
      "Requirement already satisfied: scipy>=1.8 in /Users/luoxiaoyi/miniforge3/lib/python3.10/site-packages (from libpysal->cenpy) (1.14.1)\n",
      "Requirement already satisfied: scikit-learn>=1.1 in /Users/luoxiaoyi/miniforge3/lib/python3.10/site-packages (from libpysal->cenpy) (1.5.2)\n",
      "Requirement already satisfied: charset-normalizer<4,>=2 in /Users/luoxiaoyi/miniforge3/lib/python3.10/site-packages (from requests->cenpy) (3.3.2)\n",
      "Requirement already satisfied: idna<4,>=2.5 in /Users/luoxiaoyi/miniforge3/lib/python3.10/site-packages (from requests->cenpy) (3.6)\n",
      "Requirement already satisfied: urllib3<3,>=1.21.1 in /Users/luoxiaoyi/miniforge3/lib/python3.10/site-packages (from requests->cenpy) (2.2.1)\n",
      "Requirement already satisfied: certifi>=2017.4.17 in /Users/luoxiaoyi/miniforge3/lib/python3.10/site-packages (from requests->cenpy) (2024.8.30)\n",
      "Requirement already satisfied: soupsieve>1.2 in /Users/luoxiaoyi/miniforge3/lib/python3.10/site-packages (from beautifulsoup4>=4.10->libpysal->cenpy) (2.5)\n",
      "Requirement already satisfied: attrs>=19.2.0 in /Users/luoxiaoyi/miniforge3/lib/python3.10/site-packages (from fiona>=1.8.21->geopandas->cenpy) (24.2.0)\n",
      "Requirement already satisfied: click~=8.0 in /Users/luoxiaoyi/miniforge3/lib/python3.10/site-packages (from fiona>=1.8.21->geopandas->cenpy) (8.1.7)\n",
      "Requirement already satisfied: click-plugins>=1.0 in /Users/luoxiaoyi/miniforge3/lib/python3.10/site-packages (from fiona>=1.8.21->geopandas->cenpy) (1.1.1)\n",
      "Requirement already satisfied: cligj>=0.5 in /Users/luoxiaoyi/miniforge3/lib/python3.10/site-packages (from fiona>=1.8.21->geopandas->cenpy) (0.7.2)\n",
      "Requirement already satisfied: joblib>=1.2.0 in /Users/luoxiaoyi/miniforge3/lib/python3.10/site-packages (from scikit-learn>=1.1->libpysal->cenpy) (1.4.2)\n",
      "Requirement already satisfied: threadpoolctl>=3.1.0 in /Users/luoxiaoyi/miniforge3/lib/python3.10/site-packages (from scikit-learn>=1.1->libpysal->cenpy) (3.5.0)\n"
     ]
    },
    {
     "name": "stderr",
     "output_type": "stream",
     "text": [
      "/Users/luoxiaoyi/miniforge3/lib/python3.10/site-packages/fuzzywuzzy/fuzz.py:11: UserWarning: Using slow pure-python SequenceMatcher. Install python-Levenshtein to remove this warning\n",
      "  warnings.warn('Using slow pure-python SequenceMatcher. Install python-Levenshtein to remove this warning')\n"
     ]
    }
   ],
   "source": [
    "import pandas as pd\n",
    "import geopandas as gpd\n",
    "import altair as alt\n",
    "import numpy as np\n",
    "!pip install cenpy\n",
    "import cenpy"
   ]
  },
  {
   "cell_type": "code",
   "execution_count": 6,
   "id": "1cc0eeb5-fad8-4912-b7f5-0fd8d8c6c56e",
   "metadata": {},
   "outputs": [
    {
     "data": {
      "text/html": [
       "<div>\n",
       "<style scoped>\n",
       "    .dataframe tbody tr th:only-of-type {\n",
       "        vertical-align: middle;\n",
       "    }\n",
       "\n",
       "    .dataframe tbody tr th {\n",
       "        vertical-align: top;\n",
       "    }\n",
       "\n",
       "    .dataframe thead th {\n",
       "        text-align: right;\n",
       "    }\n",
       "</style>\n",
       "<table border=\"1\" class=\"dataframe\">\n",
       "  <thead>\n",
       "    <tr style=\"text-align: right;\">\n",
       "      <th></th>\n",
       "      <th>title</th>\n",
       "      <th>price</th>\n",
       "      <th>categoryName</th>\n",
       "      <th>address</th>\n",
       "      <th>neighborhood</th>\n",
       "      <th>street</th>\n",
       "      <th>city</th>\n",
       "      <th>postalCode</th>\n",
       "      <th>state</th>\n",
       "      <th>location</th>\n",
       "      <th>totalScore</th>\n",
       "      <th>reviewsCount</th>\n",
       "      <th>url</th>\n",
       "      <th>review_text</th>\n",
       "      <th>latitude</th>\n",
       "      <th>longitude</th>\n",
       "      <th>geometry</th>\n",
       "    </tr>\n",
       "  </thead>\n",
       "  <tbody>\n",
       "    <tr>\n",
       "      <th>0</th>\n",
       "      <td>Phil-Am Kusina</td>\n",
       "      <td>$10–20</td>\n",
       "      <td>Filipino restaurant</td>\n",
       "      <td>556 Tompkins Ave., Staten Island, NY 10305</td>\n",
       "      <td>Rosebank</td>\n",
       "      <td>556 Tompkins Ave.</td>\n",
       "      <td>Staten Island</td>\n",
       "      <td>10305</td>\n",
       "      <td>New York</td>\n",
       "      <td>{'lat': 40.6124623, 'lng': -74.071427}</td>\n",
       "      <td>4.7</td>\n",
       "      <td>320</td>\n",
       "      <td>https://www.google.com/maps/search/?api=1&amp;quer...</td>\n",
       "      <td>I bring my family and friends here. Excellent ...</td>\n",
       "      <td>40.612462</td>\n",
       "      <td>-74.071427</td>\n",
       "      <td>POINT (-74.07143 40.61246)</td>\n",
       "    </tr>\n",
       "    <tr>\n",
       "      <th>1</th>\n",
       "      <td>Phil-Am Kusina</td>\n",
       "      <td>$10–20</td>\n",
       "      <td>Filipino restaurant</td>\n",
       "      <td>556 Tompkins Ave., Staten Island, NY 10305</td>\n",
       "      <td>Rosebank</td>\n",
       "      <td>556 Tompkins Ave.</td>\n",
       "      <td>Staten Island</td>\n",
       "      <td>10305</td>\n",
       "      <td>New York</td>\n",
       "      <td>{'lat': 40.6124623, 'lng': -74.071427}</td>\n",
       "      <td>4.7</td>\n",
       "      <td>320</td>\n",
       "      <td>https://www.google.com/maps/search/?api=1&amp;quer...</td>\n",
       "      <td>I usually enjoy Filipino lechon kawali (fried ...</td>\n",
       "      <td>40.612462</td>\n",
       "      <td>-74.071427</td>\n",
       "      <td>POINT (-74.07143 40.61246)</td>\n",
       "    </tr>\n",
       "    <tr>\n",
       "      <th>2</th>\n",
       "      <td>Phil-Am Kusina</td>\n",
       "      <td>$10–20</td>\n",
       "      <td>Filipino restaurant</td>\n",
       "      <td>556 Tompkins Ave., Staten Island, NY 10305</td>\n",
       "      <td>Rosebank</td>\n",
       "      <td>556 Tompkins Ave.</td>\n",
       "      <td>Staten Island</td>\n",
       "      <td>10305</td>\n",
       "      <td>New York</td>\n",
       "      <td>{'lat': 40.6124623, 'lng': -74.071427}</td>\n",
       "      <td>4.7</td>\n",
       "      <td>320</td>\n",
       "      <td>https://www.google.com/maps/search/?api=1&amp;quer...</td>\n",
       "      <td>Amazing food and amazing service. Every time I...</td>\n",
       "      <td>40.612462</td>\n",
       "      <td>-74.071427</td>\n",
       "      <td>POINT (-74.07143 40.61246)</td>\n",
       "    </tr>\n",
       "    <tr>\n",
       "      <th>3</th>\n",
       "      <td>Phil-Am Kusina</td>\n",
       "      <td>$10–20</td>\n",
       "      <td>Filipino restaurant</td>\n",
       "      <td>556 Tompkins Ave., Staten Island, NY 10305</td>\n",
       "      <td>Rosebank</td>\n",
       "      <td>556 Tompkins Ave.</td>\n",
       "      <td>Staten Island</td>\n",
       "      <td>10305</td>\n",
       "      <td>New York</td>\n",
       "      <td>{'lat': 40.6124623, 'lng': -74.071427}</td>\n",
       "      <td>4.7</td>\n",
       "      <td>320</td>\n",
       "      <td>https://www.google.com/maps/search/?api=1&amp;quer...</td>\n",
       "      <td>What a gem in Staten Island. The food was abso...</td>\n",
       "      <td>40.612462</td>\n",
       "      <td>-74.071427</td>\n",
       "      <td>POINT (-74.07143 40.61246)</td>\n",
       "    </tr>\n",
       "    <tr>\n",
       "      <th>4</th>\n",
       "      <td>Phil-Am Kusina</td>\n",
       "      <td>$10–20</td>\n",
       "      <td>Filipino restaurant</td>\n",
       "      <td>556 Tompkins Ave., Staten Island, NY 10305</td>\n",
       "      <td>Rosebank</td>\n",
       "      <td>556 Tompkins Ave.</td>\n",
       "      <td>Staten Island</td>\n",
       "      <td>10305</td>\n",
       "      <td>New York</td>\n",
       "      <td>{'lat': 40.6124623, 'lng': -74.071427}</td>\n",
       "      <td>4.7</td>\n",
       "      <td>320</td>\n",
       "      <td>https://www.google.com/maps/search/?api=1&amp;quer...</td>\n",
       "      <td>This is THE best tasting Philippines Restauran...</td>\n",
       "      <td>40.612462</td>\n",
       "      <td>-74.071427</td>\n",
       "      <td>POINT (-74.07143 40.61246)</td>\n",
       "    </tr>\n",
       "  </tbody>\n",
       "</table>\n",
       "</div>"
      ],
      "text/plain": [
       "            title   price         categoryName  \\\n",
       "0  Phil-Am Kusina  $10–20  Filipino restaurant   \n",
       "1  Phil-Am Kusina  $10–20  Filipino restaurant   \n",
       "2  Phil-Am Kusina  $10–20  Filipino restaurant   \n",
       "3  Phil-Am Kusina  $10–20  Filipino restaurant   \n",
       "4  Phil-Am Kusina  $10–20  Filipino restaurant   \n",
       "\n",
       "                                      address neighborhood             street  \\\n",
       "0  556 Tompkins Ave., Staten Island, NY 10305     Rosebank  556 Tompkins Ave.   \n",
       "1  556 Tompkins Ave., Staten Island, NY 10305     Rosebank  556 Tompkins Ave.   \n",
       "2  556 Tompkins Ave., Staten Island, NY 10305     Rosebank  556 Tompkins Ave.   \n",
       "3  556 Tompkins Ave., Staten Island, NY 10305     Rosebank  556 Tompkins Ave.   \n",
       "4  556 Tompkins Ave., Staten Island, NY 10305     Rosebank  556 Tompkins Ave.   \n",
       "\n",
       "            city postalCode     state                                location  \\\n",
       "0  Staten Island      10305  New York  {'lat': 40.6124623, 'lng': -74.071427}   \n",
       "1  Staten Island      10305  New York  {'lat': 40.6124623, 'lng': -74.071427}   \n",
       "2  Staten Island      10305  New York  {'lat': 40.6124623, 'lng': -74.071427}   \n",
       "3  Staten Island      10305  New York  {'lat': 40.6124623, 'lng': -74.071427}   \n",
       "4  Staten Island      10305  New York  {'lat': 40.6124623, 'lng': -74.071427}   \n",
       "\n",
       "   totalScore  reviewsCount  \\\n",
       "0         4.7           320   \n",
       "1         4.7           320   \n",
       "2         4.7           320   \n",
       "3         4.7           320   \n",
       "4         4.7           320   \n",
       "\n",
       "                                                 url  \\\n",
       "0  https://www.google.com/maps/search/?api=1&quer...   \n",
       "1  https://www.google.com/maps/search/?api=1&quer...   \n",
       "2  https://www.google.com/maps/search/?api=1&quer...   \n",
       "3  https://www.google.com/maps/search/?api=1&quer...   \n",
       "4  https://www.google.com/maps/search/?api=1&quer...   \n",
       "\n",
       "                                         review_text   latitude  longitude  \\\n",
       "0  I bring my family and friends here. Excellent ...  40.612462 -74.071427   \n",
       "1  I usually enjoy Filipino lechon kawali (fried ...  40.612462 -74.071427   \n",
       "2  Amazing food and amazing service. Every time I...  40.612462 -74.071427   \n",
       "3  What a gem in Staten Island. The food was abso...  40.612462 -74.071427   \n",
       "4  This is THE best tasting Philippines Restauran...  40.612462 -74.071427   \n",
       "\n",
       "                     geometry  \n",
       "0  POINT (-74.07143 40.61246)  \n",
       "1  POINT (-74.07143 40.61246)  \n",
       "2  POINT (-74.07143 40.61246)  \n",
       "3  POINT (-74.07143 40.61246)  \n",
       "4  POINT (-74.07143 40.61246)  "
      ]
     },
     "execution_count": 6,
     "metadata": {},
     "output_type": "execute_result"
    }
   ],
   "source": [
    "import pandas as pd\n",
    "\n",
    "file_path = \"data/restaurants_reviews_final.geojson\"  \n",
    "review = gpd.read_file(file_path)\n",
    "\n",
    "review.head()\n"
   ]
  },
  {
   "cell_type": "code",
   "execution_count": 7,
   "id": "a5854c8e-c5f7-4549-ab63-dc4c95a47520",
   "metadata": {},
   "outputs": [
    {
     "name": "stdout",
     "output_type": "stream",
     "text": [
      "Requirement already satisfied: folium in /Users/luoxiaoyi/miniforge3/lib/python3.10/site-packages (0.17.0)\n",
      "Requirement already satisfied: matplotlib in /Users/luoxiaoyi/miniforge3/lib/python3.10/site-packages (3.9.2)\n",
      "Requirement already satisfied: branca>=0.6.0 in /Users/luoxiaoyi/miniforge3/lib/python3.10/site-packages (from folium) (0.8.0)\n",
      "Requirement already satisfied: jinja2>=2.9 in /Users/luoxiaoyi/miniforge3/lib/python3.10/site-packages (from folium) (3.1.4)\n",
      "Requirement already satisfied: numpy in /Users/luoxiaoyi/miniforge3/lib/python3.10/site-packages (from folium) (1.26.4)\n",
      "Requirement already satisfied: requests in /Users/luoxiaoyi/miniforge3/lib/python3.10/site-packages (from folium) (2.31.0)\n",
      "Requirement already satisfied: xyzservices in /Users/luoxiaoyi/miniforge3/lib/python3.10/site-packages (from folium) (2024.9.0)\n",
      "Requirement already satisfied: contourpy>=1.0.1 in /Users/luoxiaoyi/miniforge3/lib/python3.10/site-packages (from matplotlib) (1.3.0)\n",
      "Requirement already satisfied: cycler>=0.10 in /Users/luoxiaoyi/miniforge3/lib/python3.10/site-packages (from matplotlib) (0.12.1)\n",
      "Requirement already satisfied: fonttools>=4.22.0 in /Users/luoxiaoyi/miniforge3/lib/python3.10/site-packages (from matplotlib) (4.53.1)\n",
      "Requirement already satisfied: kiwisolver>=1.3.1 in /Users/luoxiaoyi/miniforge3/lib/python3.10/site-packages (from matplotlib) (1.4.7)\n",
      "Requirement already satisfied: packaging>=20.0 in /Users/luoxiaoyi/miniforge3/lib/python3.10/site-packages (from matplotlib) (24.0)\n",
      "Requirement already satisfied: pillow>=8 in /Users/luoxiaoyi/miniforge3/lib/python3.10/site-packages (from matplotlib) (10.3.0)\n",
      "Requirement already satisfied: pyparsing>=2.3.1 in /Users/luoxiaoyi/miniforge3/lib/python3.10/site-packages (from matplotlib) (3.1.4)\n",
      "Requirement already satisfied: python-dateutil>=2.7 in /Users/luoxiaoyi/miniforge3/lib/python3.10/site-packages (from matplotlib) (2.9.0)\n",
      "Requirement already satisfied: MarkupSafe>=2.0 in /Users/luoxiaoyi/miniforge3/lib/python3.10/site-packages (from jinja2>=2.9->folium) (2.1.5)\n",
      "Requirement already satisfied: six>=1.5 in /Users/luoxiaoyi/miniforge3/lib/python3.10/site-packages (from python-dateutil>=2.7->matplotlib) (1.16.0)\n",
      "Requirement already satisfied: charset-normalizer<4,>=2 in /Users/luoxiaoyi/miniforge3/lib/python3.10/site-packages (from requests->folium) (3.3.2)\n",
      "Requirement already satisfied: idna<4,>=2.5 in /Users/luoxiaoyi/miniforge3/lib/python3.10/site-packages (from requests->folium) (3.6)\n",
      "Requirement already satisfied: urllib3<3,>=1.21.1 in /Users/luoxiaoyi/miniforge3/lib/python3.10/site-packages (from requests->folium) (2.2.1)\n",
      "Requirement already satisfied: certifi>=2017.4.17 in /Users/luoxiaoyi/miniforge3/lib/python3.10/site-packages (from requests->folium) (2024.8.30)\n"
     ]
    }
   ],
   "source": [
    "!pip install folium matplotlib"
   ]
  },
  {
   "cell_type": "code",
   "execution_count": 8,
   "id": "80a35185-ca6a-4fdd-912a-f9ec0fd54983",
   "metadata": {},
   "outputs": [],
   "source": [
    "import matplotlib.pyplot as plt\n",
    "import pandas as pd\n",
    "from collections import Counter\n",
    "import re"
   ]
  },
  {
   "cell_type": "code",
   "execution_count": 9,
   "id": "9659671b-cc43-461c-9775-ce8a7d7164f2",
   "metadata": {},
   "outputs": [
    {
     "name": "stdout",
     "output_type": "stream",
     "text": [
      "Index(['title', 'price', 'categoryName', 'address', 'neighborhood', 'street',\n",
      "       'city', 'postalCode', 'state', 'location', 'totalScore', 'reviewsCount',\n",
      "       'url', 'review_text', 'latitude', 'longitude', 'geometry'],\n",
      "      dtype='object')\n"
     ]
    }
   ],
   "source": [
    "print(review.columns)"
   ]
  },
  {
   "cell_type": "code",
   "execution_count": 11,
   "id": "efaa1d3e-8c77-43ee-82a2-8ecec79481d5",
   "metadata": {},
   "outputs": [
    {
     "name": "stdout",
     "output_type": "stream",
     "text": [
      "Most common words: [('the', 32535), ('and', 21330), ('a', 13423), ('was', 13015), ('to', 11165), ('i', 9293), ('of', 7921), ('is', 7303), ('food', 6854), ('for', 6634), ('we', 5718), ('in', 5686), ('it', 5680), ('with', 5034), ('this', 4250), ('service', 4194), ('were', 3887), ('but', 3844), ('my', 3727), ('great', 3522)]\n"
     ]
    }
   ],
   "source": [
    "comments = review['review_text'].dropna()\n",
    "\n",
    "all_text = \" \".join(comments)\n",
    "\n",
    "all_text_cleaned = re.sub(r\"[^\\w\\s]\", \"\", all_text.lower())\n",
    "words = all_text_cleaned.split()\n",
    "\n",
    "word_counts = Counter(words)\n",
    "most_common_words = word_counts.most_common(20)\n",
    "\n",
    "print(\"Most common words:\", most_common_words)"
   ]
  },
  {
   "cell_type": "markdown",
   "id": "0a8df7de-eccb-464e-b56e-6902604d9edc",
   "metadata": {},
   "source": [
    "Here is the distribution of the words that occur among reviews."
   ]
  },
  {
   "cell_type": "code",
   "execution_count": 12,
   "id": "e6fe3110-1682-4edc-974e-70193dcc6b90",
   "metadata": {},
   "outputs": [
    {
     "data": {
      "image/png": "[encoded data removed]",
      "text/plain": [
       "<Figure size 1000x600 with 1 Axes>"
      ]
     },
     "metadata": {},
     "output_type": "display_data"
    }
   ],
   "source": [
    "import matplotlib.pyplot as plt\n",
    "\n",
    "word_freq_df = pd.DataFrame(most_common_words, columns=['Word', 'Frequency'])\n",
    "\n",
    "plt.figure(figsize=(10, 6))\n",
    "plt.bar(word_freq_df['Word'], word_freq_df['Frequency'])\n",
    "plt.xticks(rotation=45)\n",
    "plt.title(\"Top 20 Most Frequent Words in Review Comments\")\n",
    "plt.xlabel(\"Words\")\n",
    "plt.ylabel(\"Frequency\")\n",
    "plt.show()"
   ]
  },
  {
   "cell_type": "code",
   "execution_count": 13,
   "id": "3c8a1149-0a17-4fa8-bf5a-afb47634425a",
   "metadata": {},
   "outputs": [
    {
     "name": "stdout",
     "output_type": "stream",
     "text": [
      "Dating-related keywords and their counts: {'romantic': 71, 'vibe': 260, 'dating': 5, 'love': 810, 'date': 194}\n"
     ]
    }
   ],
   "source": [
    "dating_keywords = ['romantic', 'vibe', 'dating', 'love', 'date']\n",
    "\n",
    "dating_related_counts = {word: word_counts[word] for word in dating_keywords}\n",
    "\n",
    "print(\"Dating-related keywords and their counts:\", dating_related_counts)"
   ]
  },
  {
   "cell_type": "code",
   "execution_count": 16,
   "id": "365c8225-a729-4af7-948f-9a21835f708e",
   "metadata": {},
   "outputs": [
    {
     "name": "stdout",
     "output_type": "stream",
     "text": [
      "Requirement already satisfied: nltk in /Users/luoxiaoyi/miniforge3/lib/python3.10/site-packages (3.9.1)\n",
      "Requirement already satisfied: click in /Users/luoxiaoyi/miniforge3/lib/python3.10/site-packages (from nltk) (8.1.7)\n",
      "Requirement already satisfied: joblib in /Users/luoxiaoyi/miniforge3/lib/python3.10/site-packages (from nltk) (1.4.2)\n",
      "Requirement already satisfied: regex>=2021.8.3 in /Users/luoxiaoyi/miniforge3/lib/python3.10/site-packages (from nltk) (2024.11.6)\n",
      "Requirement already satisfied: tqdm in /Users/luoxiaoyi/miniforge3/lib/python3.10/site-packages (from nltk) (4.66.2)\n"
     ]
    }
   ],
   "source": [
    "!pip install --upgrade nltk"
   ]
  },
  {
   "cell_type": "code",
   "execution_count": 19,
   "id": "c6b30a56-e8ac-49d2-bb3a-34b1ce2c78dc",
   "metadata": {},
   "outputs": [
    {
     "name": "stderr",
     "output_type": "stream",
     "text": [
      "[nltk_data] Downloading package punkt_tab to\n",
      "[nltk_data]     /Users/luoxiaoyi/nltk_data...\n",
      "[nltk_data]   Package punkt_tab is already up-to-date!\n",
      "[nltk_data] Downloading package averaged_perceptron_tagger_eng to\n",
      "[nltk_data]     /Users/luoxiaoyi/nltk_data...\n",
      "[nltk_data]   Unzipping taggers/averaged_perceptron_tagger_eng.zip.\n"
     ]
    },
    {
     "name": "stdout",
     "output_type": "stream",
     "text": [
      "Most common adjectives: [('great', 3522), ('good', 2866), ('delicious', 1926), ('best', 1679), ('i', 1634), ('nice', 1081), ('excellent', 1063), ('amazing', 869), ('friendly', 690), ('other', 686), ('new', 681), ('special', 648), ('attentive', 613), ('ive', 595), ('fresh', 573), ('wonderful', 570), ('perfect', 569), ('small', 525), ('first', 518), ('more', 504)]\n"
     ]
    }
   ],
   "source": [
    "import nltk\n",
    "from nltk.tokenize import word_tokenize\n",
    "from nltk import pos_tag\n",
    "\n",
    "nltk.download('punkt_tab')\n",
    "nltk.download('averaged_perceptron_tagger_eng')\n",
    "\n",
    "\n",
    "tokens = word_tokenize(all_text_cleaned)\n",
    "\n",
    "tagged_words = pos_tag(tokens)\n",
    "\n",
    "adjectives = [word for word, tag in tagged_words if tag.startswith('JJ')]\n",
    "\n",
    "adjective_counts = Counter(adjectives)\n",
    "\n",
    "most_common_adjectives = adjective_counts.most_common(20)\n",
    "print(\"Most common adjectives:\", most_common_adjectives)\n"
   ]
  },
  {
   "cell_type": "code",
   "execution_count": 20,
   "id": "6f4abd71-8205-4780-9de8-f6372e32035e",
   "metadata": {},
   "outputs": [
    {
     "name": "stdout",
     "output_type": "stream",
     "text": [
      "Dating-related adjectives and their counts: {'romantic': 70, 'cozy': 138, 'intimate': 74, 'lovely': 135, 'beautiful': 376, 'quiet': 66, 'charming': 18, 'private': 62, 'ambiance': 1, 'special': 648, 'memorable': 192, 'love': 1}\n"
     ]
    }
   ],
   "source": [
    "dating_related_adjectives = ['romantic', 'cozy', 'intimate', 'lovely', 'beautiful', 'quiet', 'charming', \n",
    "                   'private', 'ambiance', 'special', 'memorable','love']\n",
    "\n",
    "dating_adjective_counts = {word: adjective_counts[word] for word in dating_related_adjectives if word in adjective_counts}\n",
    "\n",
    "print(\"Dating-related adjectives and their counts:\", dating_adjective_counts)"
   ]
  },
  {
   "cell_type": "markdown",
   "id": "b50d0c8f-cbe2-448d-847b-f61a35820155",
   "metadata": {},
   "source": [
    "## Calculte the Dating Score\n",
    "- Aggregate keyword counts and adjective counts for each restaurant.\n",
    "- Normalize totalScore, reviewsCount, and the combined counts.\n",
    "- Compute the Dating Score using a weighted formula.\n",
    "- Rank the restaurants based on their Dating Scores."
   ]
  },
  {
   "cell_type": "code",
   "execution_count": 21,
   "id": "88522a61-b97f-4c93-b9d7-c3f6674b0792",
   "metadata": {},
   "outputs": [
    {
     "name": "stderr",
     "output_type": "stream",
     "text": [
      "[nltk_data] Downloading package punkt to /Users/luoxiaoyi/nltk_data...\n",
      "[nltk_data]   Package punkt is already up-to-date!\n",
      "[nltk_data] Downloading package averaged_perceptron_tagger to\n",
      "[nltk_data]     /Users/luoxiaoyi/nltk_data...\n",
      "[nltk_data]   Package averaged_perceptron_tagger is already up-to-\n",
      "[nltk_data]       date!\n"
     ]
    },
    {
     "data": {
      "text/plain": [
       "True"
      ]
     },
     "execution_count": 21,
     "metadata": {},
     "output_type": "execute_result"
    }
   ],
   "source": [
    "from collections import Counter\n",
    "from nltk.tokenize import word_tokenize\n",
    "from nltk import pos_tag\n",
    "from sklearn.preprocessing import MinMaxScaler\n",
    "\n",
    "import nltk\n",
    "nltk.download('punkt')\n",
    "nltk.download('averaged_perceptron_tagger')"
   ]
  },
  {
   "cell_type": "code",
   "execution_count": null,
   "id": "c6d4aa14-017c-4d33-a2b8-358b64d08626",
   "metadata": {},
   "outputs": [],
   "source": []
  },
  {
   "cell_type": "code",
   "execution_count": 23,
   "id": "ff455c0e-b60d-49f0-b115-9bfbf0af5bef",
   "metadata": {},
   "outputs": [],
   "source": [
    "def extract_dating_counts(reviews):\n",
    "    all_text = \" \".join(reviews) \n",
    "    tokens = word_tokenize(all_text.lower())  \n",
    "    tagged_words = pos_tag(tokens)  \n",
    "    \n",
    "    word_counts = Counter(tokens)\n",
    "    adjective_counts = Counter(word for word, tag in tagged_words if tag.startswith('JJ'))\n",
    "    \n",
    "    keyword_score = sum(word_counts[word] for word in dating_keywords if word in word_counts)\n",
    "    adjective_score = sum(adjective_counts[word] for word in dating_related_adjectives if word in adjective_counts)\n",
    "    \n",
    "    return keyword_score, adjective_score\n"
   ]
  },
  {
   "cell_type": "code",
   "execution_count": 27,
   "id": "205b7526-de87-4585-b627-f29f32952c19",
   "metadata": {},
   "outputs": [
    {
     "data": {
      "text/html": [
       "<div>\n",
       "<style scoped>\n",
       "    .dataframe tbody tr th:only-of-type {\n",
       "        vertical-align: middle;\n",
       "    }\n",
       "\n",
       "    .dataframe tbody tr th {\n",
       "        vertical-align: top;\n",
       "    }\n",
       "\n",
       "    .dataframe thead th {\n",
       "        text-align: right;\n",
       "    }\n",
       "</style>\n",
       "<table border=\"1\" class=\"dataframe\">\n",
       "  <thead>\n",
       "    <tr style=\"text-align: right;\">\n",
       "      <th></th>\n",
       "      <th>title</th>\n",
       "      <th>totalScore</th>\n",
       "      <th>reviewsCount</th>\n",
       "      <th>keywordScore</th>\n",
       "      <th>adjectiveScore</th>\n",
       "      <th>combinedScore</th>\n",
       "    </tr>\n",
       "  </thead>\n",
       "  <tbody>\n",
       "    <tr>\n",
       "      <th>0</th>\n",
       "      <td>53</td>\n",
       "      <td>4.3</td>\n",
       "      <td>457</td>\n",
       "      <td>12</td>\n",
       "      <td>13</td>\n",
       "      <td>25</td>\n",
       "    </tr>\n",
       "    <tr>\n",
       "      <th>1</th>\n",
       "      <td>ATOMIX</td>\n",
       "      <td>4.8</td>\n",
       "      <td>389</td>\n",
       "      <td>15</td>\n",
       "      <td>22</td>\n",
       "      <td>37</td>\n",
       "    </tr>\n",
       "    <tr>\n",
       "      <th>2</th>\n",
       "      <td>Ai Fiori</td>\n",
       "      <td>4.4</td>\n",
       "      <td>1689</td>\n",
       "      <td>5</td>\n",
       "      <td>17</td>\n",
       "      <td>22</td>\n",
       "    </tr>\n",
       "    <tr>\n",
       "      <th>3</th>\n",
       "      <td>Alley 41</td>\n",
       "      <td>4.3</td>\n",
       "      <td>429</td>\n",
       "      <td>4</td>\n",
       "      <td>2</td>\n",
       "      <td>6</td>\n",
       "    </tr>\n",
       "    <tr>\n",
       "      <th>4</th>\n",
       "      <td>Altesi</td>\n",
       "      <td>4.2</td>\n",
       "      <td>251</td>\n",
       "      <td>5</td>\n",
       "      <td>15</td>\n",
       "      <td>20</td>\n",
       "    </tr>\n",
       "    <tr>\n",
       "      <th>...</th>\n",
       "      <td>...</td>\n",
       "      <td>...</td>\n",
       "      <td>...</td>\n",
       "      <td>...</td>\n",
       "      <td>...</td>\n",
       "      <td>...</td>\n",
       "    </tr>\n",
       "    <tr>\n",
       "      <th>174</th>\n",
       "      <td>Y&amp;Y Sushi</td>\n",
       "      <td>4.8</td>\n",
       "      <td>152</td>\n",
       "      <td>9</td>\n",
       "      <td>14</td>\n",
       "      <td>23</td>\n",
       "    </tr>\n",
       "    <tr>\n",
       "      <th>175</th>\n",
       "      <td>Yefsi Estiatorio</td>\n",
       "      <td>4.5</td>\n",
       "      <td>412</td>\n",
       "      <td>1</td>\n",
       "      <td>4</td>\n",
       "      <td>5</td>\n",
       "    </tr>\n",
       "    <tr>\n",
       "      <th>176</th>\n",
       "      <td>Za-Ya</td>\n",
       "      <td>4.8</td>\n",
       "      <td>169</td>\n",
       "      <td>21</td>\n",
       "      <td>7</td>\n",
       "      <td>28</td>\n",
       "    </tr>\n",
       "    <tr>\n",
       "      <th>177</th>\n",
       "      <td>l’abeille</td>\n",
       "      <td>4.6</td>\n",
       "      <td>206</td>\n",
       "      <td>5</td>\n",
       "      <td>46</td>\n",
       "      <td>51</td>\n",
       "    </tr>\n",
       "    <tr>\n",
       "      <th>178</th>\n",
       "      <td>大喜川菜馆 DAXI Sichuan cuisine</td>\n",
       "      <td>4.4</td>\n",
       "      <td>953</td>\n",
       "      <td>5</td>\n",
       "      <td>1</td>\n",
       "      <td>6</td>\n",
       "    </tr>\n",
       "  </tbody>\n",
       "</table>\n",
       "<p>179 rows × 6 columns</p>\n",
       "</div>"
      ],
      "text/plain": [
       "                          title  totalScore  reviewsCount  keywordScore  \\\n",
       "0                            53         4.3           457            12   \n",
       "1                        ATOMIX         4.8           389            15   \n",
       "2                      Ai Fiori         4.4          1689             5   \n",
       "3                      Alley 41         4.3           429             4   \n",
       "4                        Altesi         4.2           251             5   \n",
       "..                          ...         ...           ...           ...   \n",
       "174                   Y&Y Sushi         4.8           152             9   \n",
       "175            Yefsi Estiatorio         4.5           412             1   \n",
       "176                       Za-Ya         4.8           169            21   \n",
       "177                   l’abeille         4.6           206             5   \n",
       "178  大喜川菜馆 DAXI Sichuan cuisine         4.4           953             5   \n",
       "\n",
       "     adjectiveScore  combinedScore  \n",
       "0                13             25  \n",
       "1                22             37  \n",
       "2                17             22  \n",
       "3                 2              6  \n",
       "4                15             20  \n",
       "..              ...            ...  \n",
       "174              14             23  \n",
       "175               4              5  \n",
       "176               7             28  \n",
       "177              46             51  \n",
       "178               1              6  \n",
       "\n",
       "[179 rows x 6 columns]"
      ]
     },
     "execution_count": 27,
     "metadata": {},
     "output_type": "execute_result"
    }
   ],
   "source": [
    "restaurant_scores = []\n",
    "\n",
    "for title, group in review.groupby('title'):\n",
    "    total_score = group['totalScore'].mean()\n",
    "    reviews_count = group['reviewsCount'].iloc[0]  \n",
    "    reviews = group['review_text'].tolist()\n",
    "    \n",
    "    keyword_score, adjective_score = extract_dating_counts(reviews)\n",
    "    combined_score = keyword_score + adjective_score\n",
    "    \n",
    "    restaurant_scores.append({\n",
    "        'title': title,\n",
    "        'totalScore': total_score,\n",
    "        'reviewsCount': reviews_count,\n",
    "        'keywordScore': keyword_score,\n",
    "        'adjectiveScore': adjective_score,\n",
    "        'combinedScore': combined_score\n",
    "    })\n",
    "\n",
    "aggregated_df = pd.DataFrame(restaurant_scores)\n",
    "\n",
    "aggregated_df"
   ]
  },
  {
   "cell_type": "code",
   "execution_count": 28,
   "id": "e37a94e5-7110-4ff5-8cc5-cad4e60883a2",
   "metadata": {},
   "outputs": [
    {
     "name": "stdout",
     "output_type": "stream",
     "text": [
      "Top Restaurants by Dating Score:\n",
      "                                   title  totalScore  reviewsCount  \\\n",
      "51     Fogo de Chão Brazilian Steakhouse    0.904762      0.876397   \n",
      "87                             Le Coucou    0.761905      0.278665   \n",
      "35                                Daniel    0.809524      0.347333   \n",
      "108  Nan Xiang Soup Dumplings - Flushing    0.761905      1.000000   \n",
      "144     Supper Club By Le Petit Parisien    1.000000      0.008464   \n",
      "..                                   ...         ...           ...   \n",
      "110                            New Mulan    0.428571      0.119291   \n",
      "8                                Arirang    0.428571      0.058927   \n",
      "139                    Shimiaodao Noodle    0.428571      0.039125   \n",
      "93                           MJ USA 東旺飯店    0.238095      0.027467   \n",
      "39                                E.A.T.    0.000000      0.168157   \n",
      "\n",
      "     combinedScore  DatingScore   Rank  \n",
      "51            0.30     0.714824    1.0  \n",
      "87            0.94     0.670361    2.0  \n",
      "35            0.74     0.650009    3.0  \n",
      "108           0.12     0.640762    4.0  \n",
      "144           0.78     0.636539    5.0  \n",
      "..             ...          ...    ...  \n",
      "110           0.06     0.225216  175.0  \n",
      "8             0.10     0.219107  176.0  \n",
      "139           0.04     0.195166  177.0  \n",
      "93            0.02     0.109478  178.0  \n",
      "39            0.02     0.056447  179.0  \n",
      "\n",
      "[179 rows x 6 columns]\n"
     ]
    }
   ],
   "source": [
    "scaler = MinMaxScaler()\n",
    "normalized_cols = ['totalScore', 'reviewsCount', 'combinedScore']\n",
    "aggregated_df[normalized_cols] = scaler.fit_transform(aggregated_df[normalized_cols])\n",
    "\n",
    "w1, w2, w3 = 0.4, 0.3, 0.3  \n",
    "aggregated_df['DatingScore'] = (\n",
    "    w1 * aggregated_df['totalScore'] +\n",
    "    w2 * aggregated_df['reviewsCount'] +\n",
    "    w3 * aggregated_df['combinedScore']\n",
    ")\n",
    "\n",
    "aggregated_df['Rank'] = aggregated_df['DatingScore'].rank(ascending=False)\n",
    "aggregated_df = aggregated_df.sort_values(by='DatingScore', ascending=False)\n",
    "\n",
    "print(\"Top Restaurants by Dating Score:\")\n",
    "print(aggregated_df[['title', 'totalScore', 'reviewsCount', 'combinedScore', 'DatingScore', 'Rank']])\n"
   ]
  },
  {
   "cell_type": "code",
   "execution_count": 34,
   "id": "ef3f5bbd-52a6-4cb1-9476-0b1af0814165",
   "metadata": {},
   "outputs": [
    {
     "name": "stdout",
     "output_type": "stream",
     "text": [
      "File successfully saved to: /Users/luoxiaoyi/Downloads/24fall-python-final-proposal-kuma_chloe_wenjun_finalproposal-main/pythonfinal/data/DatingScore.csv\n"
     ]
    }
   ],
   "source": [
    "import geopandas as gpd\n",
    "\n",
    "output_path = \"/Users/luoxiaoyi/Downloads/24fall-python-final-proposal-kuma_chloe_wenjun_finalproposal-main/pythonfinal/data/DatingScore.csv\"\n",
    "aggregated_df.to_csv(output_path, index=False)\n",
    "\n",
    "print(f\"File successfully saved to: {output_path}\")"
   ]
  }
 ],
 "metadata": {
  "kernelspec": {
   "display_name": "Python 3 (ipykernel)",
   "language": "python",
   "name": "python3"
  },
  "language_info": {
   "codemirror_mode": {
    "name": "ipython",
    "version": 3
   },
   "file_extension": ".py",
   "mimetype": "text/x-python",
   "name": "python",
   "nbconvert_exporter": "python",
   "pygments_lexer": "ipython3",
   "version": "3.10.14"
  }
 },
 "nbformat": 4,
 "nbformat_minor": 5
}
